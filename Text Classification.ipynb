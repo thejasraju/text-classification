{
 "cells": [
  {
   "cell_type": "markdown",
   "metadata": {},
   "source": [
    "# <div align=\"center\">Text Classification</div>\n",
    "## <div style=\"float: left;\">Sumanth Sajjan Vijaykumar</div>\n",
    "## <div style=\"float: left;\">Thejas Raju</div>"
   ]
  },
  {
   "cell_type": "markdown",
   "metadata": {},
   "source": [
    "---"
   ]
  },
  {
   "cell_type": "markdown",
   "metadata": {},
   "source": [
    "**Necessary basic imports**"
   ]
  },
  {
   "cell_type": "code",
   "execution_count": 122,
   "metadata": {},
   "outputs": [],
   "source": [
    "import pandas as pd\n",
    "import numpy as np\n",
    "\n",
    "from sklearn import metrics\n",
    "import matplotlib.pyplot as plt\n",
    "\n",
    "import warnings\n",
    "warnings.filterwarnings(\"ignore\")"
   ]
  },
  {
   "cell_type": "markdown",
   "metadata": {},
   "source": [
    "# TASK-1"
   ]
  },
  {
   "cell_type": "markdown",
   "metadata": {},
   "source": [
    "## <div align=\"left\">Web Scraping</div>"
   ]
  },
  {
   "cell_type": "markdown",
   "metadata": {},
   "source": [
    "Defining a function to facilitate web scraping which can be reused for multiple categories.<br><br>\n",
    "The function \n",
    "* takes category as input (which is a part of page link to the corresponding category) \n",
    "* returns the DataFrame with two attributes : Reviews and Ratings."
   ]
  },
  {
   "cell_type": "code",
   "execution_count": 1,
   "metadata": {},
   "outputs": [],
   "source": [
    "from bs4 import BeautifulSoup\n",
    "import requests\n",
    "\n",
    "def web_scraping(category):\n",
    "    \n",
    "    page_link = 'link'+category+'link.html'\n",
    "    page_response = requests.get(page_link, timeout=5)\n",
    "    page_content = BeautifulSoup(page_response.content, \"html.parser\")\n",
    "\n",
    "    links = []\n",
    "    for link in page_content.findAll('a'):    \n",
    "        links.append(link.get('href'))\n",
    "    \n",
    "    reviews = []\n",
    "    ratings = []\n",
    "\n",
    "    for i in range(0,len(links)):\n",
    "        page_link = 'link'+links[i]\n",
    "        page_response = requests.get(page_link, timeout=5)\n",
    "        page_content = BeautifulSoup(page_response.content, \"html.parser\")\n",
    "    \n",
    "        reviews.extend(page_content.find_all(\"p\", {\"class\": \"text\"}))\n",
    "        ratings.extend(page_content.find_all(\"p\", {\"class\": \"stars\"}))\n",
    "    \n",
    "    reviews = [i.text for i in reviews]\n",
    "\n",
    "    for i in range(0,len(ratings)):\n",
    "        star=str(ratings[i])\n",
    "        if(star.find(\"5-star\")!=-1):\n",
    "            ratings[i]=\"Positive\"\n",
    "        if(star.find(\"4-star\")!=-1):\n",
    "            ratings[i]=\"Positive\"\n",
    "        if(star.find(\"3-star\")!=-1):\n",
    "            ratings[i]=\"Positive\"\n",
    "        if(star.find(\"2-star\")!=-1):\n",
    "            ratings[i]=\"Negative\"\n",
    "        if(star.find(\"1-star\")!=-1):\n",
    "            ratings[i]=\"Negative\"\n",
    "        \n",
    "    df = pd.DataFrame({'Reviews': reviews, 'Ratings': ratings},columns= ['Reviews', 'Ratings'])\n",
    "    \n",
    "    return df"
   ]
  },
  {
   "cell_type": "markdown",
   "metadata": {},
   "source": [
    "**The following are two categories from which data is extracted:**\n",
    "1. Automotive\n",
    "2. Hotels and travel"
   ]
  },
  {
   "cell_type": "markdown",
   "metadata": {},
   "source": [
    "**Automotive** - Reviews and Ratings scrapping:"
   ]
  },
  {
   "cell_type": "code",
   "execution_count": 124,
   "metadata": {},
   "outputs": [],
   "source": [
    "df_Automotive = web_scraping('automotive')\n",
    "\n",
    "# Writing scrapped reviews and ratings to Automotive.csv\n",
    "df_Automotive.to_csv('Automotive.csv', sep=',', encoding='utf-8', index=False)"
   ]
  },
  {
   "cell_type": "markdown",
   "metadata": {},
   "source": [
    "**Hotels and travel** - Reviews and Ratings scrapping:"
   ]
  },
  {
   "cell_type": "code",
   "execution_count": 125,
   "metadata": {},
   "outputs": [],
   "source": [
    "df_HotelsAndTravel = web_scraping('hotels_travel')\n",
    "\n",
    "# Writing scrapped reviews and ratings to Hotels and Travel.csv\n",
    "df_HotelsAndTravel.to_csv('Hotels and Travel.csv', sep=',', encoding='utf-8', index=False)"
   ]
  },
  {
   "cell_type": "markdown",
   "metadata": {},
   "source": [
    "# TASK-2 "
   ]
  },
  {
   "cell_type": "markdown",
   "metadata": {},
   "source": [
    "## <div align=\"left\">Text Preprocessing</div>"
   ]
  },
  {
   "cell_type": "markdown",
   "metadata": {},
   "source": [
    "Defining the function for text preprocessing which can be reused for multiple catergories.<br><br>\n",
    "The lemma_tokenizer function \n",
    "* tokenises each review using build_tokenizer()\n",
    "* Coverts each token to lower case\n",
    "* lemmatisation on each token\n",
    "\n",
    "The preprocess function\n",
    "* Returns vectorizer to be used for a particlar model"
   ]
  },
  {
   "cell_type": "code",
   "execution_count": 126,
   "metadata": {},
   "outputs": [],
   "source": [
    "# imports for text processing\n",
    "from sklearn.feature_extraction.text import CountVectorizer\n",
    "from sklearn.feature_extraction.text import TfidfVectorizer\n",
    "import nltk\n",
    "\n",
    "# define the function lemma_tokenizer\n",
    "def lemma_tokenizer(text):\n",
    "    # Fist tokenize the review\n",
    "    standard_tokenizer = CountVectorizer().build_tokenizer()\n",
    "    tokens = standard_tokenizer(text)\n",
    "    # convert to each token to lower case then perform lemmatisation on each token\n",
    "    lemmatizer = nltk.stem.WordNetLemmatizer()\n",
    "    lemma_tokens = []\n",
    "    for token in tokens:\n",
    "        lemma_tokens.append( lemmatizer.lemmatize(token).lower() )\n",
    "    return lemma_tokens\n",
    "\n",
    "# define the function preprocess\n",
    "def preprocess(data):\n",
    "    # normalize the matrix using TfidfVectorizer\n",
    "    vectorizer = TfidfVectorizer(stop_words=\"english\",tokenizer=lemma_tokenizer)\n",
    "    \n",
    "    return X, vectorizer\n"
   ]
  },
  {
   "cell_type": "markdown",
   "metadata": {},
   "source": [
    "## <div align=\"left\">Automotive - Model Building and Evaluation</div>"
   ]
  },
  {
   "cell_type": "code",
   "execution_count": 156,
   "metadata": {},
   "outputs": [
    {
     "data": {
      "text/html": [
       "<div>\n",
       "<style scoped>\n",
       "    .dataframe tbody tr th:only-of-type {\n",
       "        vertical-align: middle;\n",
       "    }\n",
       "\n",
       "    .dataframe tbody tr th {\n",
       "        vertical-align: top;\n",
       "    }\n",
       "\n",
       "    .dataframe thead th {\n",
       "        text-align: right;\n",
       "    }\n",
       "</style>\n",
       "<table border=\"1\" class=\"dataframe\">\n",
       "  <thead>\n",
       "    <tr style=\"text-align: right;\">\n",
       "      <th></th>\n",
       "      <th>Reviews</th>\n",
       "      <th>Ratings</th>\n",
       "    </tr>\n",
       "  </thead>\n",
       "  <tbody>\n",
       "    <tr>\n",
       "      <th>0</th>\n",
       "      <td>I arrived at 3 PM and the dealership closed at...</td>\n",
       "      <td>Positive</td>\n",
       "    </tr>\n",
       "    <tr>\n",
       "      <th>1</th>\n",
       "      <td>I dropped my car off on a Wednesday morning fo...</td>\n",
       "      <td>Negative</td>\n",
       "    </tr>\n",
       "    <tr>\n",
       "      <th>2</th>\n",
       "      <td>My parents have been buying cars off of Donna ...</td>\n",
       "      <td>Positive</td>\n",
       "    </tr>\n",
       "    <tr>\n",
       "      <th>3</th>\n",
       "      <td>I recently bought another car from Donna Dunni...</td>\n",
       "      <td>Positive</td>\n",
       "    </tr>\n",
       "    <tr>\n",
       "      <th>4</th>\n",
       "      <td>I had to schedule an appointment due to the ai...</td>\n",
       "      <td>Positive</td>\n",
       "    </tr>\n",
       "  </tbody>\n",
       "</table>\n",
       "</div>"
      ],
      "text/plain": [
       "                                             Reviews   Ratings\n",
       "0  I arrived at 3 PM and the dealership closed at...  Positive\n",
       "1  I dropped my car off on a Wednesday morning fo...  Negative\n",
       "2  My parents have been buying cars off of Donna ...  Positive\n",
       "3  I recently bought another car from Donna Dunni...  Positive\n",
       "4  I had to schedule an appointment due to the ai...  Positive"
      ]
     },
     "execution_count": 156,
     "metadata": {},
     "output_type": "execute_result"
    }
   ],
   "source": [
    "# Import dataset from csv file\n",
    "df_Automotive = pd.read_csv('Automotive.csv')\n",
    "df_Automotive.head()"
   ]
  },
  {
   "cell_type": "code",
   "execution_count": 157,
   "metadata": {},
   "outputs": [],
   "source": [
    "# splitting the dataset into input parameters and output parameters\n",
    "X = df_Automotive.Reviews\n",
    "y = df_Automotive.Ratings"
   ]
  },
  {
   "cell_type": "code",
   "execution_count": 158,
   "metadata": {},
   "outputs": [
    {
     "data": {
      "image/png": "[encoded data removed]",
      "text/plain": [
       "<Figure size 432x288 with 1 Axes>"
      ]
     },
     "metadata": {
      "needs_background": "light"
     },
     "output_type": "display_data"
    }
   ],
   "source": [
    "# check the target balance in the dataset\n",
    "classes, counts = np.unique(y, return_counts=True)\n",
    "bar_class = np.array([x for x in classes])\n",
    "plt.bar(bar_class, counts)\n",
    "plt.show()"
   ]
  },
  {
   "cell_type": "code",
   "execution_count": 159,
   "metadata": {},
   "outputs": [],
   "source": [
    "# Handling the imbalanced data by the oversampling\n",
    "n = len(np.where(y == 'Positive')[0])\n",
    "balanced_index = np.hstack([np.random.choice(np.where(y == rating)[0], n, replace=True)\n",
    "                      for rating in np.unique(y)])\n",
    "\n",
    "X = X[balanced_index]\n",
    "y = y[balanced_index]"
   ]
  },
  {
   "cell_type": "code",
   "execution_count": 160,
   "metadata": {},
   "outputs": [
    {
     "data": {
      "image/png": "[encoded data removed]",
      "text/plain": [
       "<Figure size 432x288 with 1 Axes>"
      ]
     },
     "metadata": {
      "needs_background": "light"
     },
     "output_type": "display_data"
    }
   ],
   "source": [
    "# check the target balance in the dataset\n",
    "classes, counts = np.unique(y, return_counts=True)\n",
    "bar_class = np.array([x for x in classes])\n",
    "plt.bar(bar_class, counts)\n",
    "plt.show()"
   ]
  },
  {
   "cell_type": "code",
   "execution_count": 161,
   "metadata": {},
   "outputs": [],
   "source": [
    "# Calling defined function preprocess and get a vectorizer\n",
    "X,Automotive_vectorizer = preprocess(X)\n",
    "X = Automotive_vectorizer.fit_transform(X)"
   ]
  },
  {
   "cell_type": "code",
   "execution_count": 162,
   "metadata": {},
   "outputs": [],
   "source": [
    "# Splitting training and test dataset\n",
    "from sklearn.model_selection import train_test_split\n",
    "X_train, X_test, y_train, y_test = train_test_split(X, y, test_size = 0.2, random_state = 0)"
   ]
  },
  {
   "cell_type": "code",
   "execution_count": 163,
   "metadata": {},
   "outputs": [
    {
     "name": "stdout",
     "output_type": "stream",
     "text": [
      "MultinomialNB(alpha=1.0, class_prior=None, fit_prior=True)\n"
     ]
    }
   ],
   "source": [
    "# Model with Multinomial Naive Bayes classifier for text classification\n",
    "from sklearn.naive_bayes import MultinomialNB\n",
    "Automotive_model = MultinomialNB()\n",
    "\n",
    "# Training the model with train data\n",
    "Automotive_model.fit(X_train, y_train)\n",
    "print(Automotive_model)"
   ]
  },
  {
   "cell_type": "code",
   "execution_count": 164,
   "metadata": {},
   "outputs": [
    {
     "name": "stdout",
     "output_type": "stream",
     "text": [
      "Classification accuracy = 0.95\n"
     ]
    }
   ],
   "source": [
    "# Evaluating the model with test data\n",
    "y_hat = Automotive_model.predict(X_test)\n",
    "acc = metrics.accuracy_score(y_test, y_hat)\n",
    "print(\"Classification accuracy = %.2f\" % acc)"
   ]
  },
  {
   "cell_type": "code",
   "execution_count": 165,
   "metadata": {},
   "outputs": [
    {
     "name": "stdout",
     "output_type": "stream",
     "text": [
      "              precision    recall  f1-score   support\n",
      "\n",
      "    Negative       0.93      0.98      0.95       194\n",
      "    Positive       0.98      0.93      0.95       202\n",
      "\n",
      "   micro avg       0.95      0.95      0.95       396\n",
      "   macro avg       0.95      0.95      0.95       396\n",
      "weighted avg       0.95      0.95      0.95       396\n",
      "\n",
      "Confusion matrix\n",
      "[[190   4]\n",
      " [ 15 187]]\n"
     ]
    }
   ],
   "source": [
    "# Printing performance details\n",
    "print(metrics.classification_report(y_test, y_hat))\n",
    "print(\"Confusion matrix\")\n",
    "print(metrics.confusion_matrix(y_test, y_hat))"
   ]
  },
  {
   "cell_type": "markdown",
   "metadata": {},
   "source": [
    "### Evaluation of Automotive_model:\n",
    "\n",
    "* Accuracy:\n",
    "\n",
    "Accuracy= Number of correct predictions/Total number of predictions = (190+187)/(190+4+15+187)= 0.952 ~= 95%\n",
    "\n",
    "**The classifier achieves a high accuracy in classification of reviews pertaining to the automotive category.**\n",
    "\n",
    "* F1 Scores:\n",
    "\n",
    "F1 Score (Negative)= 2*(1/((1/Precision)+(1/Recall)))= 2*(1/((1/0.93)+(1/0.98)))= 0.95\n",
    "\n",
    "F1 Score (Positive)= 2*(1/((1/Precision)+(1/Recall)))= 2*(1/((1/0.98)+(1/0.93)))= 0.95\n",
    "\n",
    "**As the F1 Scores are closer to value 1, the model is said to be precise and robust.**\n",
    "\n",
    "* Confusion Matrix:\n",
    "\n",
    "**From the confusion matrix presented in the performance details, it can be seen that there are high number of True Positive (187) and high number of True Negatives (190) when compared to the False Positives (4) and False Negatives (15) which shows that the model is a good classifier.**"
   ]
  },
  {
   "cell_type": "markdown",
   "metadata": {},
   "source": [
    "## <div align=\"left\">Hotels and travel - Model Building and Evaluation</div>"
   ]
  },
  {
   "cell_type": "code",
   "execution_count": 167,
   "metadata": {},
   "outputs": [
    {
     "data": {
      "text/html": [
       "<div>\n",
       "<style scoped>\n",
       "    .dataframe tbody tr th:only-of-type {\n",
       "        vertical-align: middle;\n",
       "    }\n",
       "\n",
       "    .dataframe tbody tr th {\n",
       "        vertical-align: top;\n",
       "    }\n",
       "\n",
       "    .dataframe thead th {\n",
       "        text-align: right;\n",
       "    }\n",
       "</style>\n",
       "<table border=\"1\" class=\"dataframe\">\n",
       "  <thead>\n",
       "    <tr style=\"text-align: right;\">\n",
       "      <th></th>\n",
       "      <th>Reviews</th>\n",
       "      <th>Ratings</th>\n",
       "    </tr>\n",
       "  </thead>\n",
       "  <tbody>\n",
       "    <tr>\n",
       "      <th>0</th>\n",
       "      <td>I have used this service before and was satisf...</td>\n",
       "      <td>Negative</td>\n",
       "    </tr>\n",
       "    <tr>\n",
       "      <th>1</th>\n",
       "      <td>First time I tried using them the driver was n...</td>\n",
       "      <td>Negative</td>\n",
       "    </tr>\n",
       "    <tr>\n",
       "      <th>2</th>\n",
       "      <td>Driver picked me up on time at 6AM and even kn...</td>\n",
       "      <td>Positive</td>\n",
       "    </tr>\n",
       "    <tr>\n",
       "      <th>3</th>\n",
       "      <td>First time using this taxi and limo company as...</td>\n",
       "      <td>Positive</td>\n",
       "    </tr>\n",
       "    <tr>\n",
       "      <th>4</th>\n",
       "      <td>Great experience. Driver was early and was ver...</td>\n",
       "      <td>Positive</td>\n",
       "    </tr>\n",
       "  </tbody>\n",
       "</table>\n",
       "</div>"
      ],
      "text/plain": [
       "                                             Reviews   Ratings\n",
       "0  I have used this service before and was satisf...  Negative\n",
       "1  First time I tried using them the driver was n...  Negative\n",
       "2  Driver picked me up on time at 6AM and even kn...  Positive\n",
       "3  First time using this taxi and limo company as...  Positive\n",
       "4  Great experience. Driver was early and was ver...  Positive"
      ]
     },
     "execution_count": 167,
     "metadata": {},
     "output_type": "execute_result"
    }
   ],
   "source": [
    "# Import dataset from csv file\n",
    "df_HotelsAndTravel = pd.read_csv('Hotels and Travel.csv')\n",
    "df_HotelsAndTravel.head()"
   ]
  },
  {
   "cell_type": "code",
   "execution_count": 168,
   "metadata": {},
   "outputs": [],
   "source": [
    "# splitting the dataset into input parameters and output parameters\n",
    "X = df_HotelsAndTravel.Reviews\n",
    "y = df_HotelsAndTravel.Ratings"
   ]
  },
  {
   "cell_type": "code",
   "execution_count": 169,
   "metadata": {},
   "outputs": [
    {
     "data": {
      "image/png": "[encoded data removed]",
      "text/plain": [
       "<Figure size 432x288 with 1 Axes>"
      ]
     },
     "metadata": {
      "needs_background": "light"
     },
     "output_type": "display_data"
    }
   ],
   "source": [
    "# check the target balance in the dataset\n",
    "classes, counts = np.unique(y, return_counts=True)\n",
    "bar_class = np.array([x for x in classes])\n",
    "plt.bar(bar_class, counts)\n",
    "plt.show()"
   ]
  },
  {
   "cell_type": "code",
   "execution_count": 170,
   "metadata": {},
   "outputs": [],
   "source": [
    "# Handling the imbalanced data by the oversampling\n",
    "n = len(np.where(y == 'Positive')[0])\n",
    "balanced_index = np.hstack([np.random.choice(np.where(y == rating)[0], n, replace=True)\n",
    "                      for rating in np.unique(y)])\n",
    "\n",
    "X = X[balanced_index]\n",
    "y = y[balanced_index]"
   ]
  },
  {
   "cell_type": "code",
   "execution_count": 171,
   "metadata": {},
   "outputs": [
    {
     "data": {
      "image/png": "[encoded data removed]",
      "text/plain": [
       "<Figure size 432x288 with 1 Axes>"
      ]
     },
     "metadata": {
      "needs_background": "light"
     },
     "output_type": "display_data"
    }
   ],
   "source": [
    "# check the target balance in the dataset\n",
    "classes, counts = np.unique(y, return_counts=True)\n",
    "bar_class = np.array([x for x in classes])\n",
    "plt.bar(bar_class, counts)\n",
    "plt.show()"
   ]
  },
  {
   "cell_type": "code",
   "execution_count": 172,
   "metadata": {},
   "outputs": [],
   "source": [
    "# Calling defined function preprocess and get a vectorizer\n",
    "X,HotelsAndTravel_vectorizer = preprocess(X)\n",
    "X = HotelsAndTravel_vectorizer.fit_transform(X)"
   ]
  },
  {
   "cell_type": "code",
   "execution_count": 173,
   "metadata": {},
   "outputs": [],
   "source": [
    "# Splitting training and test dataset\n",
    "X_train, X_test, y_train, y_test = train_test_split(X, y, test_size = 0.2, random_state = 0)"
   ]
  },
  {
   "cell_type": "code",
   "execution_count": 174,
   "metadata": {},
   "outputs": [
    {
     "name": "stdout",
     "output_type": "stream",
     "text": [
      "MultinomialNB(alpha=1.0, class_prior=None, fit_prior=True)\n"
     ]
    }
   ],
   "source": [
    "# Model with Multinomial Naive Bayes classifier for text classification\n",
    "HotelsAndTravel_model = MultinomialNB()\n",
    "\n",
    "# Training the model with train data\n",
    "HotelsAndTravel_model.fit(X_train, y_train)\n",
    "print(HotelsAndTravel_model)"
   ]
  },
  {
   "cell_type": "code",
   "execution_count": 175,
   "metadata": {},
   "outputs": [
    {
     "name": "stdout",
     "output_type": "stream",
     "text": [
      "Classification accuracy = 0.93\n"
     ]
    }
   ],
   "source": [
    "# Evaluating the model with text data\n",
    "y_hat = HotelsAndTravel_model.predict(X_test)\n",
    "acc = metrics.accuracy_score(y_test, y_hat)\n",
    "print(\"Classification accuracy = %.2f\" % acc)"
   ]
  },
  {
   "cell_type": "code",
   "execution_count": 176,
   "metadata": {},
   "outputs": [
    {
     "name": "stdout",
     "output_type": "stream",
     "text": [
      "              precision    recall  f1-score   support\n",
      "\n",
      "    Negative       0.94      0.93      0.93       177\n",
      "    Positive       0.92      0.94      0.93       167\n",
      "\n",
      "   micro avg       0.93      0.93      0.93       344\n",
      "   macro avg       0.93      0.93      0.93       344\n",
      "weighted avg       0.93      0.93      0.93       344\n",
      "\n",
      "Confusion matrix\n",
      "[[164  13]\n",
      " [ 10 157]]\n"
     ]
    }
   ],
   "source": [
    "# Print performance details\n",
    "print(metrics.classification_report(y_test, y_hat))\n",
    "print(\"Confusion matrix\")\n",
    "print(metrics.confusion_matrix(y_test, y_hat))"
   ]
  },
  {
   "cell_type": "markdown",
   "metadata": {},
   "source": [
    "### Evaluation of HotelsAndTravel_model:\n",
    "\n",
    "* Accuracy:\n",
    "\n",
    "Accuracy= Number of correct predictions/Total number of predictions = (164+157)/(164+13+10+157)= 0.933 ~= 93%\n",
    "\n",
    "**The classifier achieves a high accuracy in classification of reviews pertaining to the Hotels and Travel category.**\n",
    "\n",
    "* F1 Scores:\n",
    "\n",
    "F1 Score (Negative)= 2*(1/((1/Precision)+(1/Recall)))= 2*(1/((1/0.94)+(1/0.93)))= 0.93\n",
    "\n",
    "F1 Score (Positive)= 2*(1/((1/Precision)+(1/Recall)))= 2*(1/((1/0.92)+(1/0.94)))= 0.93\n",
    "\n",
    "**As the F1 Scores are closer to value 1, the model is said to be precise and robust.**\n",
    "\n",
    "* Confusion Matrix:\n",
    "\n",
    "**From the confusion matrix presented in the performance details, it can be seen that there are high number of True Positive (157) and high number of True Negatives (164) when compared to the False Positives (13) and False Negatives (10) which shows that the model is a good classifier.**"
   ]
  },
  {
   "cell_type": "markdown",
   "metadata": {},
   "source": [
    "\n",
    "## Comparing the performance of Automotive_model and HotelsAndTravel_model:\n",
    "\n",
    "* The Automotive_model is more accurate with an accuracy of 95% when compared to the HotelAndTravel_model which has an accuracy of 93%.\n",
    "\n",
    "* The Automotive_model has a higher F1 score of 0.95 for both positive and negative reviews when compared to the F1 score of HotelAndTravel_model which is 0.93. Hence, for the given data, the Automotive_model is more accurate and robust of the two.\n",
    "\n",
    "* As this model evaluates reviews, the number of False Positives must be low. The Automotive_model produces lesser number of False Positives when compared to the HotelsAndTravel_model. Whereas, the HotelsAndTravel_model has a lesser number of False Negatives when compared to the Automotive_model.\n",
    "\n",
    "\n"
   ]
  },
  {
   "cell_type": "markdown",
   "metadata": {},
   "source": [
    "# TASK-3 "
   ]
  },
  {
   "cell_type": "markdown",
   "metadata": {},
   "source": [
    "## <div align=\"left\">Evaluating Automotive_model with Hotels and travel data</div>"
   ]
  },
  {
   "cell_type": "code",
   "execution_count": 177,
   "metadata": {},
   "outputs": [],
   "source": [
    "# Import dataset from csv file\n",
    "df_HotelsAndTravel = pd.read_csv('Hotels and Travel.csv')\n",
    "\n",
    "# splitting the dataset into input parameters and output parameters\n",
    "X = df_HotelsAndTravel.Reviews\n",
    "y = df_HotelsAndTravel.Ratings"
   ]
  },
  {
   "cell_type": "code",
   "execution_count": 178,
   "metadata": {},
   "outputs": [],
   "source": [
    "# Transform the Hotels and travel data using Automotive_vectorizer to pass the data to Automotive_model\n",
    "X = Automotive_vectorizer.transform(X)"
   ]
  },
  {
   "cell_type": "code",
   "execution_count": 179,
   "metadata": {},
   "outputs": [
    {
     "name": "stdout",
     "output_type": "stream",
     "text": [
      "Classification accuracy = 0.84\n"
     ]
    }
   ],
   "source": [
    "# Evaluating Automotive_model with Hotels and travel data\n",
    "y_hat = Automotive_model.predict(X)\n",
    "acc = metrics.accuracy_score(y, y_hat)\n",
    "print(\"Classification accuracy = %.2f\" % acc)"
   ]
  },
  {
   "cell_type": "code",
   "execution_count": 180,
   "metadata": {},
   "outputs": [
    {
     "name": "stdout",
     "output_type": "stream",
     "text": [
      "              precision    recall  f1-score   support\n",
      "\n",
      "    Negative       0.79      0.84      0.81       570\n",
      "    Positive       0.89      0.85      0.87       860\n",
      "\n",
      "   micro avg       0.84      0.84      0.84      1430\n",
      "   macro avg       0.84      0.84      0.84      1430\n",
      "weighted avg       0.85      0.84      0.84      1430\n",
      "\n",
      "Confusion matrix\n",
      "[[476  94]\n",
      " [130 730]]\n"
     ]
    }
   ],
   "source": [
    "# Print performance details\n",
    "print(metrics.classification_report(y, y_hat))\n",
    "print(\"Confusion matrix\")\n",
    "print(metrics.confusion_matrix(y, y_hat))"
   ]
  },
  {
   "cell_type": "markdown",
   "metadata": {},
   "source": [
    "### Performance of Automotive_model with Hotels and Travel data:\n",
    "\n",
    "* Accuracy:\n",
    "\n",
    "Accuracy= Number of correct predictions/Total number of predictions = (476+730)/(476+94+130+730)= 0.843 ~= 84%\n",
    "\n",
    "**The Automotive_model classifier achieves an accuracy of 84% in classification of reviews pertaining to the Hotels and Travel category.**\n",
    "\n",
    "* F1 Scores:\n",
    "\n",
    "F1 Score (Negative)= 2*(1/((1/Precision)+(1/Recall)))= 2*(1/((1/0.79)+(1/0.84)))= 0.81\n",
    "\n",
    "F1 Score (Positive)= 2*(1/((1/Precision)+(1/Recall)))= 2*(1/((1/0.89)+(1/0.85)))= 0.87\n",
    "\n",
    "**The F1 Scores are closer to value 1, but scores achieved when model was evaluated against automotive data was higher.**\n",
    "\n",
    "* Confusion Matrix:\n",
    "\n",
    "**From the confusion matrix presented in the performance details, it can be seen that there are high number of True Positive (730) and high number of True Negatives (476) when compared to the False Positives (94) and False Negatives (130). However, the number of False Positives and False Negatives is higher than the number achieved when the model was evealuated against Automotive data instead of Hotels and Travel data. This shows that the model is not a very good classifier for Hotels and Travel data.**"
   ]
  },
  {
   "cell_type": "markdown",
   "metadata": {},
   "source": [
    "---"
   ]
  },
  {
   "cell_type": "markdown",
   "metadata": {},
   "source": [
    "## <div align=\"left\">Evaluating HotelsAndTravel_model with Automotive data</div>"
   ]
  },
  {
   "cell_type": "code",
   "execution_count": 181,
   "metadata": {},
   "outputs": [],
   "source": [
    "# Import dataset from csv file\n",
    "df_Automotive = pd.read_csv('Automotive.csv')\n",
    "\n",
    "# splitting the dataset into input parameters and output parameters\n",
    "X = df_Automotive.Reviews\n",
    "y = df_Automotive.Ratings"
   ]
  },
  {
   "cell_type": "code",
   "execution_count": 182,
   "metadata": {},
   "outputs": [],
   "source": [
    "# Transform the Automotive data using HotelsAndTravel_vectorizer to pass the data to HotelsAndTravel_model\n",
    "X = HotelsAndTravel_vectorizer.transform(X)"
   ]
  },
  {
   "cell_type": "code",
   "execution_count": 183,
   "metadata": {},
   "outputs": [
    {
     "name": "stdout",
     "output_type": "stream",
     "text": [
      "Classification accuracy = 0.70\n"
     ]
    }
   ],
   "source": [
    "# Evaluating HotelsAndTravel_model with Automotive data\n",
    "y_hat = HotelsAndTravel_model.predict(X)\n",
    "acc = metrics.accuracy_score(y, y_hat)\n",
    "print(\"Classification accuracy = %.2f\" % acc)"
   ]
  },
  {
   "cell_type": "code",
   "execution_count": 184,
   "metadata": {},
   "outputs": [
    {
     "name": "stdout",
     "output_type": "stream",
     "text": [
      "              precision    recall  f1-score   support\n",
      "\n",
      "    Negative       0.52      0.97      0.68       465\n",
      "    Positive       0.97      0.58      0.73       990\n",
      "\n",
      "   micro avg       0.70      0.70      0.70      1455\n",
      "   macro avg       0.75      0.77      0.70      1455\n",
      "weighted avg       0.83      0.70      0.71      1455\n",
      "\n",
      "Confusion matrix\n",
      "[[449  16]\n",
      " [414 576]]\n"
     ]
    }
   ],
   "source": [
    "# Print performance details\n",
    "print(metrics.classification_report(y, y_hat))\n",
    "print(\"Confusion matrix\")\n",
    "print(metrics.confusion_matrix(y, y_hat))"
   ]
  },
  {
   "cell_type": "markdown",
   "metadata": {},
   "source": [
    "### Performance of HotelsAndTravel_model with Automotive data :\n",
    "\n",
    "* Accuracy:\n",
    "\n",
    "Accuracy= Number of correct predictions/Total number of predictions = (449+576)/(449+16+414+576)= 0.70 ~= 70%\n",
    "\n",
    "**The HotelsAndTravel_model classifier achieves a low accuracy of 70% in classification of reviews pertaining to the Automotive category.**\n",
    "\n",
    "* F1 Scores:\n",
    "\n",
    "F1 Score (Negative)= 2*(1/((1/Precision)+(1/Recall)))= 2*(1/((1/0.52)+(1/0.97)))= 0.68\n",
    "\n",
    "F1 Score (Positive)= 2*(1/((1/Precision)+(1/Recall)))= 2*(1/((1/0.97)+(1/0.58)))= 0.73\n",
    "\n",
    "**There is an imbalace in the Precison and Recall for both Positive and Negative reviews and hence, the F1 Scores are lower than the scores achieved when model was evaluated against Hotels and Travel data.**\n",
    "\n",
    "* Confusion Matrix:\n",
    "\n",
    "**From the confusion matrix presented in the performance details, it can be seen that there are high number of True Positive (576), a high number of True Negatives (449), and in addition, there are a high number of False Negatives (414) as well when compared to the False Positives (16). The high number of False Negatives results in reduced accuracy and hence the model is not a good classifier of Automotive data.**"
   ]
  },
  {
   "cell_type": "markdown",
   "metadata": {},
   "source": [
    "---"
   ]
  },
  {
   "cell_type": "markdown",
   "metadata": {},
   "source": [
    "# <div align=\"left\">Conclusion</div>"
   ]
  },
  {
   "cell_type": "markdown",
   "metadata": {},
   "source": [
    " Two classification models namely, Automotive_model and HotelsAndTravel_model were built. \n",
    "\n",
    "The Automotive_model was trained and tested using the reviews and ratings obtained from Automotive category. This resulted in high accuracy of classification and F1 scores which were closer to 1.\n",
    "Similarly, the HotelsAndTravel_model was trained and tested using the reviews and ratings obtained from Hotels and Travel category. The accuracy of this model was lesser to the Automotive_model but achieved decent classification results for Hotel and Travel data.\n",
    "\n",
    "The data used to build the respective models contain terms which are significant and specific to their respective categories. These terms largely influence the classification process. Hence, the model is biased towards the category used to build the model. Accuracy obtained when the Automotive_model was used to classify Hotels And Travel reviews and the HotelsAndTravel_model was used to classify the Automotive reviews were 84% and 70% respectively which is lower when compared to the accuracy obtained when models were used to classify reviews of their respective categories on which they were built.\n",
    "\n",
    "However, reviews also contain few terms which can be positive and negative in nature and can help classify reviews. These terms occur across categories as they are generally used to convey a positive or a negative sentiment. The models also pick up these features and hence can perform accurate classifications of reviews of other categories to an extent. This can be observed as accuracy of 80% is obtained when Automotive_model is used to classify the Hotel and Travel reviews. "
   ]
  }
 ],
 "metadata": {
  "kernelspec": {
   "display_name": "Python 3",
   "language": "python",
   "name": "python3"
  },
  "language_info": {
   "codemirror_mode": {
    "name": "ipython",
    "version": 3
   },
   "file_extension": ".py",
   "mimetype": "text/x-python",
   "name": "python",
   "nbconvert_exporter": "python",
   "pygments_lexer": "ipython3",
   "version": "3.7.1"
  }
 },
 "nbformat": 4,
 "nbformat_minor": 2
}
